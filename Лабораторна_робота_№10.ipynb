{
  "nbformat": 4,
  "nbformat_minor": 0,
  "metadata": {
    "colab": {
      "provenance": []
    },
    "kernelspec": {
      "name": "python3",
      "display_name": "Python 3"
    },
    "language_info": {
      "name": "python"
    }
  },
  "cells": [
    {
      "cell_type": "code",
      "execution_count": 1,
      "metadata": {
        "colab": {
          "base_uri": "https://localhost:8080/"
        },
        "id": "yl_fH-8gF1RM",
        "outputId": "7e132591-6f95-49cf-da9d-d6d99263c448"
      },
      "outputs": [
        {
          "output_type": "stream",
          "name": "stdout",
          "text": [
            "right rectangle: 0.29462\n",
            "left rectangle: 0.28212\n",
            "average rectangle: 0.4\n",
            "Check for the rectangle method=  0.28839\n"
          ]
        }
      ],
      "source": [
        "#Метод прямокутників\n",
        "from scipy import integrate\n",
        "import numpy as np\n",
        "\n",
        "eps = 0.001\n",
        "a = 0.8\n",
        "b = 1.4\n",
        "\n",
        "def f1(x):\n",
        "    return x / np.sqrt(2*x + 3)\n",
        "\n",
        "def left_rec(f1, a, b, n):\n",
        "    h = (b - a) / n\n",
        "    sum = 0\n",
        "    for i in range(0, n):\n",
        "        sum += f1(a + i * h)\n",
        "    return sum * h\n",
        "\n",
        "v, err = integrate.quad(f1, a, b)  # Перевірка\n",
        "\n",
        "# Перевірка точності за правилом Рунге:\n",
        "if abs(left_rec(f1, a, b, 2 * 10) - left_rec(f1, a, b, 10)) / 3. <= eps:\n",
        "  print(\"left rectangle:\", round(left_rec(f1, a, b, 10), 5))\n",
        "\n",
        "\n",
        "def right_rec(f1, a, b, n):\n",
        "    h = (b - a) / n\n",
        "    sum = 0\n",
        "    for i in range(1, n + 1):\n",
        "        sum += f1(a + i * h)\n",
        "    return sum * h\n",
        "\n",
        "print(\"right rectangle:\", round(right_rec(f1, a, b, 10), 5))\n",
        "\n",
        "def aver_rec(f1, a, b, n):\n",
        "    h = 0.08\n",
        "    sum = 0\n",
        "    for i in range(0, n):\n",
        "        sum += f1(a + i * h)\n",
        "    return sum * h\n",
        "\n",
        "print(\"left rectangle:\", round(left_rec(f1, a, b, 10), 5))\n",
        "print(\"average rectangle:\", round(aver_rec(f1, a, b, 10), 5))\n",
        "print(\"Check for the rectangle method= \", round(v, 5))"
      ]
    },
    {
      "cell_type": "code",
      "source": [
        "#Метод Сімпсона\n",
        "from scipy import integrate\n",
        "import numpy as np\n",
        "\n",
        "# Задаємо функцію, яку необхідно інтегрувати\n",
        "def f(x):\n",
        "    return np.sqrt(x) * np.cos(x**2)\n",
        "\n",
        "# Задаємо межі інтегрування та початкову кількість розбиттів\n",
        "a = 0.4\n",
        "b = 1.2\n",
        "n = 8\n",
        "\n",
        "# Обчислюємо значення інтегралу методом Симпсона\n",
        "def simpson_rule(f, a, b, n):\n",
        "    h = (b - a) / n\n",
        "    integr = f(a) + f(b)\n",
        "    for i in range(1, n):\n",
        "        k = a + i * h\n",
        "        if i % 2 == 0:\n",
        "            integr += 2 * f(k)\n",
        "        else:\n",
        "            integr += 4 * f(k)\n",
        "    integr *= h / 3\n",
        "    return integr\n",
        "\n",
        "# Обчислюємо значення інтегралу методом Сімпсона з точністю 0.001\n",
        "integral1 = simpson_rule(f, a, b, n)\n",
        "n *= 2\n",
        "integral2 = simpson_rule(f, a, b, n)\n",
        "while abs(integral2 - integral1) / 15 > 0.001:\n",
        "    integral1 = integral2\n",
        "    n *= 2\n",
        "    integral2 = simpson_rule(f, a, b, n)\n",
        "\n",
        "# Виводимо результат\n",
        "print(\"Simpson method:\", round(integral2, 3))\n",
        "v, err = integrate.quad(f, a, b)\n",
        "# Перевірка\n",
        "print(\"Check for the Simpson method= \", round(v, 3))"
      ],
      "metadata": {
        "colab": {
          "base_uri": "https://localhost:8080/"
        },
        "id": "3cDXNSO_G2Ir",
        "outputId": "a241ba51-9519-4f8c-b97b-1ebc85669eff"
      },
      "execution_count": 4,
      "outputs": [
        {
          "output_type": "stream",
          "name": "stdout",
          "text": [
            "Simpson method: 0.484\n",
            "Check for the Simpson method=  0.484\n"
          ]
        }
      ]
    },
    {
      "cell_type": "code",
      "source": [
        "#Метод трапецій\n",
        "from scipy import integrate\n",
        "import numpy as np\n",
        "\n",
        "# Задаємо функцію, яку необхідно інтегрувати\n",
        "def f(x):\n",
        "    return  x / np.sqrt(3*x**2 - 0.4)\n",
        "\n",
        "# Задаємо межі інтегрування та початкову кількість розбиттів\n",
        "a = 1.3\n",
        "b = 2.1\n",
        "n = 20\n",
        "\n",
        "# Обчислюємо значення інтегралу методом трапецій\n",
        "def trapezoidal_rule(f, a, b, n):\n",
        "    h = (b - a) / n\n",
        "    x = a\n",
        "    sum = 0\n",
        "    for i in range(1, n):\n",
        "        x += h\n",
        "        sum += 2 * f(x)\n",
        "    sum += f(b)\n",
        "    integral = h / 2 * sum\n",
        "    return integral\n",
        "\n",
        "# Обчислюємо значення інтегралу методом трапецій з точністю 0.001\n",
        "# Перевірка точності за правилом Рунге\n",
        "integral1 = trapezoidal_rule(f, a, b, n)\n",
        "n *= 2\n",
        "integral2 = trapezoidal_rule(f, a, b, n)\n",
        "while abs(integral2 - integral1) / 3 > 0.001:\n",
        "    integral1 = integral2\n",
        "    n *= 2\n",
        "    integral2 = trapezoidal_rule(f, a, b, n)\n",
        "\n",
        "# Виводимо результат\n",
        "print(\"Trapezoidal method:\", round(integral2, 3))\n",
        "# Перевірка\n",
        "v, err = integrate.quad(f, a, b)\n",
        "print(\"Check for the trapezoidal method =\", round(v, 5))"
      ],
      "metadata": {
        "colab": {
          "base_uri": "https://localhost:8080/"
        },
        "id": "rzd5qgh0JanB",
        "outputId": "bf910e40-3bb4-4668-c111-403d8fb24d90"
      },
      "execution_count": 5,
      "outputs": [
        {
          "output_type": "stream",
          "name": "stdout",
          "text": [
            "Trapezoidal method: 0.472\n",
            "Check for the trapezoidal method = 0.47363\n"
          ]
        }
      ]
    }
  ]
}