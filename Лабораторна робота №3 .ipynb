{
  "metadata": {
    "language_info": {
      "codemirror_mode": {
        "name": "python",
        "version": 3
      },
      "file_extension": ".py",
      "mimetype": "text/x-python",
      "name": "python",
      "nbconvert_exporter": "python",
      "pygments_lexer": "ipython3",
      "version": "3.8"
    },
    "kernelspec": {
      "name": "python",
      "display_name": "Python (Pyodide)",
      "language": "python"
    }
  },
  "nbformat_minor": 4,
  "nbformat": 4,
  "cells": [
    {
      "cell_type": "code",
      "source": "#Метод Ньютона\nimport numpy as np\nfrom scipy.misc import derivative\n\ndef f(x):\n    return 4.5*pow(x,4) - 4*pow(x,3) + 1.5*pow(x,2) - 2*x - 7\n\na = -1\nb = 0\na2 = 1\nb2 = 2\neps = 0.001   \n\ndef newton(a, b, eps):\n    df2 = derivative(f, b, n=2)\n    \n    if f(b) * df2 > 0:\n        xi = b\n    else:\n        xi = a\n    \n    df = derivative(f, xi, n=1)\n    xi_1 = xi - f(xi) / df\n    \n    while abs(xi_1 - xi) > eps:   \n        xi = xi_1\n        df = derivative(f, xi, n=1)\n        xi_1 = xi - f(xi) / df\n    \n    return print('Метод Ньютона: x =', xi_1)\n    return print('Метод Ньютона: x =', xi_1)\n\nnewton(a, b, eps)\nnewton(a2, b2, eps)",
      "metadata": {
        "trusted": true
      },
      "execution_count": 12,
      "outputs": [
        {
          "name": "stderr",
          "text": "<ipython-input-12-2b295e108e8a>:15: DeprecationWarning: scipy.misc.derivative is deprecated in SciPy v1.10.0; and will be completely removed in SciPy v1.12.0. You may consider using findiff: https://github.com/maroba/findiff or numdifftools: https://github.com/pbrod/numdifftools\n  df2 = derivative(f, b, n=2)\n<ipython-input-12-2b295e108e8a>:22: DeprecationWarning: scipy.misc.derivative is deprecated in SciPy v1.10.0; and will be completely removed in SciPy v1.12.0. You may consider using findiff: https://github.com/maroba/findiff or numdifftools: https://github.com/pbrod/numdifftools\n  df = derivative(f, xi, n=1)\n<ipython-input-12-2b295e108e8a>:27: DeprecationWarning: scipy.misc.derivative is deprecated in SciPy v1.10.0; and will be completely removed in SciPy v1.12.0. You may consider using findiff: https://github.com/maroba/findiff or numdifftools: https://github.com/pbrod/numdifftools\n  df = derivative(f, xi, n=1)\n",
          "output_type": "stream"
        },
        {
          "name": "stdout",
          "text": "Метод Ньютона: x = -0.8253082647370751\nМетод Ньютона: x = 1.4195138876718085\n",
          "output_type": "stream"
        }
      ]
    },
    {
      "cell_type": "code",
      "source": "#Комбінований метод\nimport numpy as np\nfrom scipy.misc import derivative\n\ndef f(x):\n    return 4.5*pow(x,4) - 4*pow(x,3) + 1.5*pow(x,2) - 2*x - 7\n\ndef сomb(a, b, eps):\n    if (derivative(f, a, n=1) * derivative(f, a, n=2) > 0):\n        a0 = a\n        b0 = b\n    else:\n        a0 = b\n        b0 = a\n    ai = a0\n    bi = b0\n    while abs(ai - bi) > eps:\n        ai_1 = ai - f(ai) * (bi - ai) / (f(bi) - f(ai))\n        bi_1 = bi - f(bi) / derivative(f, bi, n=1)\n        ai = ai_1\n        bi = bi_1\n    x = (ai_1 + bi_1) / 2\n    return x\n#Для першого відрізка \nres = сomb(-1, 0, 0.0001)\nprint('Комбінований метод x =', res)\n\n#Для другого відрізка\nres2 = сomb(1, 2, 0.0001)\nprint('Комбінований метод x =', res2)\n",
      "metadata": {
        "trusted": true
      },
      "execution_count": 8,
      "outputs": [
        {
          "name": "stderr",
          "text": "<ipython-input-8-34fd79535875>:8: DeprecationWarning: scipy.misc.derivative is deprecated in SciPy v1.10.0; and will be completely removed in SciPy v1.12.0. You may consider using findiff: https://github.com/maroba/findiff or numdifftools: https://github.com/pbrod/numdifftools\n  if (derivative(f, a, n=1) * derivative(f, a, n=2) > 0):\n<ipython-input-8-34fd79535875>:18: DeprecationWarning: scipy.misc.derivative is deprecated in SciPy v1.10.0; and will be completely removed in SciPy v1.12.0. You may consider using findiff: https://github.com/maroba/findiff or numdifftools: https://github.com/pbrod/numdifftools\n  bi_1 = bi - f(bi) / derivative(f, bi, n=1)\n",
          "output_type": "stream"
        },
        {
          "name": "stdout",
          "text": "Комбінований метод x = -0.8249674951184456\nКомбінований метод x = 1.4190983502188983\n",
          "output_type": "stream"
        }
      ]
    },
    {
      "cell_type": "code",
      "source": "",
      "metadata": {},
      "execution_count": null,
      "outputs": []
    }
  ]
}