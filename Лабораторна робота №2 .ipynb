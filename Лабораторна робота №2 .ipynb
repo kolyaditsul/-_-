{
  "metadata": {
    "language_info": {
      "codemirror_mode": {
        "name": "python",
        "version": 3
      },
      "file_extension": ".py",
      "mimetype": "text/x-python",
      "name": "python",
      "nbconvert_exporter": "python",
      "pygments_lexer": "ipython3",
      "version": "3.8"
    },
    "kernelspec": {
      "name": "python",
      "display_name": "Python (Pyodide)",
      "language": "python"
    }
  },
  "nbformat_minor": 4,
  "nbformat": 4,
  "cells": [
    {
      "cell_type": "code",
      "source": "import numpy as np\nfrom scipy.misc import derivative\n\ndef f(x):\n    return 4.5*pow(x,4) - 4*pow(x,3) + 1.5*pow(x,2) - 2*x - 7\n\neps = 0.0001\n#Відокремлення коренів\ndef find_segments():\n    search_range = np.arange(-10, 10, 1)\n    a = None\n    previous_x = None\n    current_x = None\n    segments = []\n    \n    for x in search_range:\n        x = round(x, 4)\n        current_x = f(x)\n        if previous_x is not None and previous_x * current_x < 0:\n            segments.append((a, x))\n        a = x\n        previous_x = current_x\n\n    return segments\n\nsegments = find_segments()\n\nfor a, b in segments:\n    print(f\"Відрізок: [{a}, {b}]\")\n#Метод половинного ділення\ndef rec(a, b, eps):\n    while abs(a - b) > eps:\n        if f(a) * f((a + b) / 2) < 0:\n            b = (a + b) / 2\n        else:\n            a = (a + b) / 2\n    x = (a + b) / 2\n    return x\n#Метод хорд\ndef hord(a, b, eps):\n    if (f(a) * derivative(f, a, n=2) > 0):\n        x0 = a\n        xi = b\n    else:\n        x0 = b\n        xi = a\n    \n    xi_1 = xi - (xi - x0) * f(xi) / (f(xi) - f(x0))\n    \n    while abs(xi_1 - xi) > eps:\n        xi = xi_1\n        xi_1 = xi - (xi - x0) * f(xi) / (f(xi) - f(x0))\n    \n    return xi_1\n\n#Перший відрізок\na = -1\nb = 0\n\nprint(f\"Розв'язок нелінійного рівняння на відрізку [{a}, {b}]\")\nresult_rec = rec(a, b, eps)\nresult_hord = hord(a, b, eps)\nprint(f'Метод половинного ділення: x = {round(result_rec, 5)}')\nprint(f'Метод хорд: x = {round(result_hord, 5)}')\n\n#Другий відрізок\na2 = 1\nb2 = 2\nprint(f\"Розв'язок нелінійного рівняння на відрізку [{a2}, {b2}]\")\nresult_rec2 = rec(a2, b2, eps)\nresult_hord2 = hord(a2, b2, eps)\nprint(f'Метод половинного ділення: x = {round(result_rec2, 5)}')\nprint(f'Метод хорд: x = {round(result_hord2, 5)}')\n\n",
      "metadata": {
        "trusted": true
      },
      "execution_count": 14,
      "outputs": [
        {
          "name": "stdout",
          "text": "Відрізок: [-1, 0]\nВідрізок: [1, 2]\nРозв'язок нелінійного рівняння на відрізку [-1, 0]\n",
          "output_type": "stream"
        },
        {
          "name": "stderr",
          "text": "<ipython-input-14-c2485cd33bd7>:41: DeprecationWarning: scipy.misc.derivative is deprecated in SciPy v1.10.0; and will be completely removed in SciPy v1.12.0. You may consider using findiff: https://github.com/maroba/findiff or numdifftools: https://github.com/pbrod/numdifftools\n  if (f(a) * derivative(f, a, n=2) > 0):\n",
          "output_type": "stream"
        },
        {
          "name": "stdout",
          "text": "Метод половинного ділення: x = -0.82492\nМетод хорд: x = -0.82491\nРозв'язок нелінійного рівняння на відрізку [1, 2]\nМетод половинного ділення: x = 1.41904\nМетод хорд: x = 1.41896\n",
          "output_type": "stream"
        }
      ]
    },
    {
      "cell_type": "code",
      "source": "",
      "metadata": {},
      "execution_count": null,
      "outputs": []
    }
  ]
}